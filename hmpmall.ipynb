{
  "cells": [
    {
      "cell_type": "markdown",
      "metadata": {
        "id": "view-in-github",
        "colab_type": "text"
      },
      "source": [
        "<a href=\"https://colab.research.google.com/github/hajhan/docs.ko-kr/blob/master/hmpmall.ipynb\" target=\"_parent\"><img src=\"https://colab.research.google.com/assets/colab-badge.svg\" alt=\"Open In Colab\"/></a>"
      ]
    },
    {
      "cell_type": "markdown",
      "source": [
        "# hmpmall test"
      ],
      "metadata": {
        "id": "1O331r5jwbKX"
      }
    },
    {
      "cell_type": "code",
      "source": [
        "import requests\n",
        "import json\n",
        "import time\n",
        "import re\n",
        "from collections import defaultdict\n",
        "\n",
        "login_url = 'https://www.hmpmall.co.kr/dwr/call/plaincall/common/Login.execute.dwr'\n",
        "payload = {\n",
        "    'callCount': '1',\n",
        "    'nextReverseAjaxIndex': '0',\n",
        "    'c0-scriptName': 'common/Login',\n",
        "    'c0-methodName': 'execute',\n",
        "    'c0-id': '0',\n",
        "    'c0-e1': 'string:',\n",
        "    'c0-e2': 'string:2350001',\n",
        "    'c0-e3': 'string:oys123',\n",
        "    'c0-e4': 'string:gksal22##',\n",
        "    'c0-param0': 'Object_Object:{mallDivCode:reference:c0-e1, loginPathDivCode:reference:c0-e2, memId:reference:c0-e3, memPw:reference:c0-e4}',\n",
        "    'batchId': '1',\n",
        "    'instanceId': '0',\n",
        "    'page': '%2Flogin.do',\n",
        "    'scriptSessionId': '2rAStZ~JvWvxPY2iH1QwRbY3qhON6gUFevp/N8tFevp-OyCONFg13'\n",
        "}\n",
        "\n",
        "start_time = time.time()\n",
        "\n",
        "with requests.Session() as s:\n",
        "    res = s.post(login_url, data=payload)\n",
        "    if res.ok:\n",
        "        #print(res.text)\n",
        "\n",
        "        match = re.search(r'auth\\s*:\\s*(null|{[^}]*})', res.text)\n",
        "        #print(match)\n",
        "        if match and match.group(1) != \"null\":\n",
        "\n",
        "            start_id = 6807\n",
        "            product_count = 1\n",
        "\n",
        "            for product_id in range(start_id, start_id + product_count):\n",
        "                url = f\"https://www.hmpmall.co.kr/search/SearchProductSellerListJson.do?productMasterId={product_id}\"\n",
        "                r = s.get(url)\n",
        "                data = r.json()\n",
        "                #print(data)\n",
        "\n",
        "                if 'productBasicInfo' in data:\n",
        "                    # 제품명 추출\n",
        "                    product_name = data['productBasicInfo']['productName']\n",
        "\n",
        "                    product_code = \"\"\n",
        "                    if 'stdCd' in data['productBasicInfo']:\n",
        "                        product_code = data['productBasicInfo']['stdCd']\n",
        "\n",
        "                    product_group = \"\"\n",
        "                    if 'groupCategoryNumber' in data['productBasicInfo']:\n",
        "                        product_group = f\"{data['productBasicInfo']['groupCategoryNumber']};{data['productBasicInfo']['groupCategoryName']}\"\n",
        "\n",
        "                    product_stock = \"\"\n",
        "                    if 'sellerSaleProductList' in data:\n",
        "                        summary = defaultdict(lambda: {\"sum_stock\": 0, \"count\": 0})\n",
        "\n",
        "                        for item in data.get(\"sellerSaleProductList\", []):\n",
        "                            price = item[\"productUnitPrice\"]\n",
        "                            qty = item[\"stockQuantity\"]\n",
        "                            summary[price][\"sum_stock\"] += qty\n",
        "                            summary[price][\"count\"] += 1\n",
        "\n",
        "                        if (len(summary) > 0):\n",
        "                            sorted_summary = dict(sorted(summary.items(), key=lambda x: x[0]))\n",
        "                            product_stock = json.dumps(sorted_summary, ensure_ascii=False, separators=(',', ':'))\n",
        "\n",
        "                    # 결과 출력\n",
        "                    print(f\"id:{product_id}, name:{product_name}, code:{product_code}, group:{product_group}, stock:{product_stock}\")\n",
        "\n",
        "                else:\n",
        "                    print(f\"id:{product_id}, 🙅‍♂️\")\n",
        "        else:\n",
        "            message = \"\"\n",
        "            match = re.search(r'message\\s*:\\s*\"([^\"]*)\"', res.text)\n",
        "            if match:\n",
        "                raw_message = match.group(1)\n",
        "                message = bytes(raw_message, \"utf-8\").decode(\"unicode_escape\")\n",
        "            print(f\"❌ 로그인 실패;{message}\")\n",
        "    else:\n",
        "        print(f\"❌ 로그인 실패;{res.text}\")\n",
        "\n",
        "end_time = time.time()\n",
        "print(f\"경과시간: {end_time - start_time:.4f}초\")"
      ],
      "metadata": {
        "colab": {
          "base_uri": "https://localhost:8080/"
        },
        "id": "s-f39B5Lym6-",
        "outputId": "41d4e2e7-71e3-4b35-e57b-76c8e34a5863"
      },
      "execution_count": null,
      "outputs": [
        {
          "output_type": "stream",
          "name": "stdout",
          "text": [
            "throw 'allowScriptTagRemoting is false.';\n",
            "//#DWR-INSERT\n",
            "//#DWR-REPLY\n",
            "//#DWR-START#\n",
            "(function(){\r\n",
            "if(!window.dwr)return;\r\n",
            "var dwr=window.dwr._[0];\n",
            "dwr.engine.remote.handleCallback(\"1\",\"0\",{memberPolicyCount:0,auth:{memberId:\"oys123\",memberRoleDivCode:\"1060001\",authenticationUseYn:\"Y\",companyClosedCode:\"G1\",purchaseCompanyStatusDivCode:\"1100003\",memberGradeDivCode:\"1810001\",finalPasswordChangeDate:1751537247000,purchaseCompanyGradeDivCode:\"2330001\",buyerCode:\"1128064\",passwordChageCode:\"0001\",changePasswordYn:\"N\",loginFailCnt:0,shaYn:\"Y\",drmntYn:\"N\"},nuguMemberYn:\"N\",isReceived:true,member:{memberId:\"oys123\",memberIdHidden:\"oys123\",buyerId:134497,memberName:\"\\uC624\\uC724\\uC219\",memberGradeDivCode:\"2410009\",buyerName:\"\\uAC74\\uAC15\\uC628\\uB204\\uB9AC\\uC57D\\uAD6D\",buyerCode:\"1128064\",memberRoleDivCode:\"1060001\",ipAddress:\"34.48.34.125\",businessSidoCode:\"28\",animalDrugStatusDivCode:\"2370001\",membGradDivCd:\"2410009\",memberVipDivCode:\"2410000\",memberVipQtmgTxnNo:0,mallDivCode:\"1040001\",memberPremCnt:0,memberHighPriceCnt:0,ordrClseAlrimCnt:0,baseCustomerPlaceYn:\"N\",tentenClubPremCnt:0,soldProductPremCnt:0,specialProductPremCnt:0,changePasswordYn:\"N\",drmntYn:\"N\",hanmiMembId:\"oys123\",upgradeYn:\"N\",pharmonBannerCnt:1,mrAgmtStat:\"Y\"},currentDt:\"20250704\"});\n",
            "})();\n",
            "//#DWR-END#\n",
            "\n",
            "id:6807, name:여명808, code:, group:4;건강식품, stock:{\"2600\":{\"sum_stock\":2901,\"count\":2},\"2690\":{\"sum_stock\":26653,\"count\":4},\"2750\":{\"sum_stock\":24474,\"count\":2},\"2800\":{\"sum_stock\":23801,\"count\":4},\"2900\":{\"sum_stock\":69,\"count\":1},\"3000\":{\"sum_stock\":21580,\"count\":8},\"3100\":{\"sum_stock\":929,\"count\":1},\"3300\":{\"sum_stock\":333,\"count\":1},\"3500\":{\"sum_stock\":101579,\"count\":8}}\n",
            "경과시간: 2.1365초\n"
          ]
        }
      ]
    },
    {
      "cell_type": "code",
      "source": [],
      "metadata": {
        "id": "-dr8XeDql4qp"
      },
      "execution_count": null,
      "outputs": []
    }
  ],
  "metadata": {
    "colab": {
      "name": "Colab 시작하기",
      "toc_visible": true,
      "provenance": [],
      "include_colab_link": true
    },
    "kernelspec": {
      "display_name": "Python 3",
      "name": "python3"
    }
  },
  "nbformat": 4,
  "nbformat_minor": 0
}